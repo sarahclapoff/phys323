{
 "cells": [
  {
   "cell_type": "markdown",
   "metadata": {},
   "source": [
    "# PHYS323 Computational Assignment 3\n",
    "###   Sarah Clapoff, V00886385  "
   ]
  },
  {
   "cell_type": "code",
   "execution_count": 2,
   "metadata": {},
   "outputs": [],
   "source": [
    "import matplotlib.pyplot as plt \n",
    "import numpy as np "
   ]
  },
  {
   "cell_type": "markdown",
   "metadata": {},
   "source": [
    "![c)](p323-comp3.jpg)"
   ]
  },
  {
   "cell_type": "markdown",
   "metadata": {},
   "source": [
    "__b) Solve for the value of 〈ψ|ψ〉 at time τ = 0 by integrating over the range z = [−4, 4],\n",
    "then z = [−6, 6], then z = [−8, 8] and then z = [−10, 10]. Using these results, choose\n",
    "your domain of integration for the next few parts of this question and justify your choice.\n",
    "(Note: Integrating over infinite bounds can be done in some cases with tricks, but in\n",
    "practice is not possible. A big part of numerical solutions is to know when to make\n",
    "approximations/truncations, and to be able to justify the validity of your choices.)__"
   ]
  },
  {
   "cell_type": "code",
   "execution_count": 21,
   "metadata": {},
   "outputs": [
    {
     "name": "stdout",
     "output_type": "stream",
     "text": [
      "The value of <psi|psi> over the range [-4,4] is 0.996745919\n",
      "The value of <psi|psi> over the range [-6,6] is 0.998999993\n",
      "The value of <psi|psi> over the range [-8,8] is 0.999000000\n",
      "The value of <psi|psi> over the range [-10,10] is 0.999000000\n",
      "\n",
      " Considering the above intervals, [-8,8] and [-10,10] both give a value of 0.9990.     For the sake of time efficiency, we will choose the interval [-8,8], as [-10,10] requires unnecessary extra computation.\n"
     ]
    }
   ],
   "source": [
    "N = 1000\n",
    "Z = [4,6,8,10] #intervals\n",
    "\n",
    "#function returning value of psi^2 (since <psi|psi> = psi^2) over an interval (zi,zf):\n",
    "def psi2(zi,zf,N):\n",
    "    z = np.linspace(zi,zf,N)\n",
    "    psi_z = (1/np.pi)**(1/2) * np.exp(-(z-2)**2)\n",
    "    return psi_z\n",
    "\n",
    "#defining trapezoidal integration stuff, adapted from comp1:\n",
    "def ftrapz(xi,xf,N,f):\n",
    "    w = (xf-xi)/N\n",
    "    sumf=0\n",
    "\n",
    "    #do summation loop, excluding first and last point\n",
    "    for i in range(N-1): #N-1 excludes last point\n",
    "        sumf+=2*f(xi,xf,N)[i+1] #i+1 excludes first point\n",
    "\n",
    "    ans = (sumf+f(xi,xf,N)[0]+f(xi,xf,N)[-1])*w/2\n",
    "    return ans\n",
    "\n",
    "#get integration values of <psi|psi> for the given intervals\n",
    "for i in Z:\n",
    "    zi = -1*i \n",
    "    zf = i \n",
    "    #<psi|psi> = psi^2\n",
    "    ans = ftrapz(zi,zf,N,psi2)\n",
    "    print(\"The value of <psi|psi> over the range [%d,%d] is %.9f\" %(zi,zf,ans))\n",
    "\n",
    "print(\"\\n Considering the above intervals, [-8,8] and [-10,10] both give a value of 0.9990. \\\n",
    "    For the sake of time efficiency, we will choose the interval [-8,8], as [-10,10] requires unnecessary extra computation.\")"
   ]
  },
  {
   "cell_type": "markdown",
   "metadata": {},
   "source": [
    "__(c) Solve for the first 10 coefficients in the expansion by using numerical integration, and\n",
    "write them as a column vector for |ψ〉. What fraction of the total wave function are you\n",
    "sampling with just these first 10 eigenstates?__"
   ]
  },
  {
   "cell_type": "code",
   "execution_count": 18,
   "metadata": {},
   "outputs": [],
   "source": [
    "from numpy.polynomial import hermite"
   ]
  },
  {
   "cell_type": "code",
   "execution_count": 19,
   "metadata": {},
   "outputs": [
    {
     "name": "stdout",
     "output_type": "stream",
     "text": [
      "0\n",
      "1\n",
      "2\n",
      "3\n",
      "4\n",
      "5\n",
      "6\n",
      "7\n",
      "8\n",
      "9\n"
     ]
    }
   ],
   "source": [
    "#referencing tutorial 8\n",
    "\n",
    "#cn = <e_n|psi>. To get e_n:\n",
    "\n",
    "#hermite polynom function: evaluates nth\n",
    "#hetmite polynomial over the array z.\n",
    "def H(n,z):\n",
    "    cn = zeros(n+1)\n",
    "    cn[-1]=1\n",
    "    h = hermite.hermval(z,cn)\n",
    "    return h \n",
    "\n",
    "#e_n function: returns nth energy eigenstate\n",
    "def en(n,z):\n",
    "    E = (1/math.sqrt(2**n*math.factorial(n)))*(1/pi)**(1/4)*exp(-z**2/2)*H(n,z)\n",
    "    return E \n",
    "\n",
    "#define function for psi:\n",
    "\n",
    "#calculate the first 10 coef:\n",
    "for i in range(11):\n",
    "    "
   ]
  },
  {
   "cell_type": "code",
   "execution_count": null,
   "metadata": {},
   "outputs": [],
   "source": []
  },
  {
   "cell_type": "markdown",
   "metadata": {},
   "source": []
  }
 ],
 "metadata": {
  "kernelspec": {
   "display_name": "Python 3.8.2 32-bit",
   "language": "python",
   "name": "python3"
  },
  "language_info": {
   "codemirror_mode": {
    "name": "ipython",
    "version": 3
   },
   "file_extension": ".py",
   "mimetype": "text/x-python",
   "name": "python",
   "nbconvert_exporter": "python",
   "pygments_lexer": "ipython3",
   "version": "3.8.2"
  },
  "orig_nbformat": 4,
  "vscode": {
   "interpreter": {
    "hash": "0dfcc34e33ed52bc7b4878902c0c23a990f084208dead8cdbea9f87c27938bfd"
   }
  }
 },
 "nbformat": 4,
 "nbformat_minor": 2
}
